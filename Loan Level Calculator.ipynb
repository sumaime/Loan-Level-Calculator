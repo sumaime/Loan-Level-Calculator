{
 "cells": [
  {
   "attachments": {},
   "cell_type": "markdown",
   "metadata": {},
   "source": [
    "# Loan Level Calculator\n",
    "\n",
    "The class is created for calculating loan information. Given the notional, interest rate, terms and the period you wannt to check, the calculator can return monthlypmt, makePrincipalPayment, makeInterestPayment, notionalBalance.\n",
    "\n",
    "LoanInfo: Initialized with loan notional and rate. \n",
    "\n",
    "StandardTranche derived from parent class LoanInfo. \n",
    "This child class keeps track of all interest payments and all principal payments made to it, and at what time period, implements the following methods:\n",
    "* monthlypmt: return the monthly payment\n",
    "* makePrincipalPayment: record a principal payment for the current object time period. \n",
    "* makeInterestPayment: record an interest payment for the current object time period. \n",
    "* notionalBalance: return the amount of notional still owed to the tranche for the current time period (after any payments made). \n",
    "\n",
    "Calculation theory:\n",
    "\n",
    "periodic loan payment: pmt = rP/(1-(1+r)^(-N) = rP(1+r)^N/((1+r)^N - 1)\n",
    "remaing balance: bal = P(1+r)^n - pmt[((1+r)^n-1)/r]\n",
    "\n",
    "where:\n",
    "* P = Principal\n",
    "* r = Monthly interest rate\n",
    "* N = Term of loan\n",
    "* n = Number of payments made\n",
    "* pmt = Monthly payment\n",
    "* bal = Balance of Loan"
   ]
  },
  {
   "cell_type": "code",
   "execution_count": 14,
   "metadata": {
    "collapsed": true
   },
   "outputs": [],
   "source": [
    "# Parent class having notional and rate\n",
    "class LoanInfo(object):\n",
    "    def __init__(self, notional, rate):\n",
    "        self._notional = notional\n",
    "        self._rate = rate\n",
    "    \n",
    "    @property\n",
    "    def notional(self):\n",
    "        return self._notional\n",
    "    \n",
    "    @notional.setter\n",
    "    def notional(self, inotional):\n",
    "        self._notional = inotional\n",
    "    \n",
    "    @property\n",
    "    def rate(self):\n",
    "        return self._rate\n",
    "    \n",
    "    @rate.setter\n",
    "    def rate(self, irate):\n",
    "        self._rate = irate"
   ]
  },
  {
   "cell_type": "code",
   "execution_count": 15,
   "metadata": {},
   "outputs": [],
   "source": [
    "# Child Class of LoanInfo, which can calculate the monthly payment, monthly interest payment, and balance lefe\n",
    "class StandardTranche(LoanInfo):\n",
    "    def __init__(self, notional, rate, term, period):\n",
    "        super().__init__(notional, rate)\n",
    "#         current time period\n",
    "        self._period = period\n",
    "#         total years to pay the mortgage\n",
    "        self._term = term\n",
    "        \n",
    "    @property\n",
    "    def period(self):\n",
    "        return self._period\n",
    "    \n",
    "    @period.setter\n",
    "    def period(self, iperiod):\n",
    "        self._period = iperiod\n",
    "    \n",
    "    @property\n",
    "    def term(self):\n",
    "        return self._term\n",
    "    \n",
    "    @term.setter\n",
    "    def term(self, iterm):\n",
    "        self._term = iterm\n",
    "    \n",
    "    @classmethod\n",
    "    def monthlypmt(cls, notional, rate, term):\n",
    "        if notional == 0:\n",
    "            return 'The current notional is 0, payment not accepted'\n",
    "        else:\n",
    "        #  P0 * r * (1 + r)^n\n",
    "            loanAmount = notional * (rate/12) * ((1 + rate/12) ** (term*12))\n",
    "        # (1 + r)^n -1    \n",
    "            compoundRate = (1 + rate/12) ** (term*12) - 1\n",
    "        \n",
    "            monPMT = loanAmount/compoundRate\n",
    "        \n",
    "        return monPMT \n",
    "\n",
    "    \n",
    "    @classmethod\n",
    "    # amount of notional still owned to tranche\n",
    "    def notionalBalance(cls, notional, rate, term, period):\n",
    "        termOfbalance = period - 1\n",
    "        # if on term 1, the balance is face value\n",
    "        if period <= 1:\n",
    "            balanceleft = notional\n",
    "\n",
    "        else:\n",
    "            # initial balance is: p(1+r)^n\n",
    "            # balanceC = self._face * (1 + self._rate/12) ** termOfbalance\n",
    "            balanceC = notional * (1 + rate/12) ** termOfbalance\n",
    "\n",
    "            # pmt discounted back to current term: pmt(((1+r)^n - 1) / r)\n",
    "            # use delegate method from class-level\n",
    "            currentPMT = StandardTranche.monthlypmt(notional, rate, term) * (((1 + rate/12) ** termOfbalance - 1) / (rate/12))\n",
    "\n",
    "            # balance left on given term\n",
    "            balanceleft = balanceC - currentPMT\n",
    "\n",
    "        return balanceleft\n",
    "    \n",
    "        \n",
    "    def makePrincipalPayment(self):\n",
    "        # currentPrincipal = current pmt - current interest\n",
    "        currentPrincipal =  StandardTranche.monthlypmt(self._notional, self._rate, self._term) - self.makeInterestPayment()\n",
    "        return currentPrincipal\n",
    "    \n",
    "    def makeInterestPayment(self):\n",
    "        # make period less 1\n",
    "        pastperiod = self._period - 1\n",
    "        # the principal = rate/12 * balance on last period\n",
    "        currentInterest = (self._rate/12) *  StandardTranche.notionalBalance(self._notional, self._rate, self._term, pastperiod)\n",
    "        return currentInterest\n",
    "       \n",
    "        \n"
   ]
  },
  {
   "cell_type": "markdown",
   "metadata": {},
   "source": [
    "## Test the class"
   ]
  },
  {
   "cell_type": "markdown",
   "metadata": {},
   "source": [
    "#### 1. Test if loan information can be shown"
   ]
  },
  {
   "cell_type": "code",
   "execution_count": 27,
   "metadata": {
    "collapsed": true
   },
   "outputs": [],
   "source": [
    "loan = LoanInfo(10000, 0.05)"
   ]
  },
  {
   "cell_type": "code",
   "execution_count": 28,
   "metadata": {},
   "outputs": [
    {
     "data": {
      "text/plain": [
       "10000"
      ]
     },
     "execution_count": 28,
     "metadata": {},
     "output_type": "execute_result"
    }
   ],
   "source": [
    "loan.notional"
   ]
  },
  {
   "cell_type": "code",
   "execution_count": 29,
   "metadata": {},
   "outputs": [
    {
     "data": {
      "text/plain": [
       "0.05"
      ]
     },
     "execution_count": 29,
     "metadata": {},
     "output_type": "execute_result"
    }
   ],
   "source": [
    "loan.rate"
   ]
  },
  {
   "cell_type": "code",
   "execution_count": null,
   "metadata": {
    "collapsed": true
   },
   "outputs": [],
   "source": []
  },
  {
   "cell_type": "markdown",
   "metadata": {},
   "source": [
    "#### 2. Test the functions in child class\n",
    "\n",
    "\n",
    "For example, a loan with $100000, annual rate of 0.05, 30 years. \n",
    "\n",
    "We can check loan information on the period of 100：\n",
    "1. monthly pmt for every month is $536.82, \n",
    "\n",
    "2. notional balance left is $85313.35, \n",
    "\n",
    "3. an interest payment of $356.22, \n",
    "\n",
    "4. the principal payment of $180.6."
   ]
  },
  {
   "cell_type": "code",
   "execution_count": 30,
   "metadata": {
    "collapsed": true
   },
   "outputs": [],
   "source": [
    "# Define a loan with principle of 100000, rate of 0.05, term of loan of 30 years, period we are checking 100.\n",
    "test = StandardTranche(100000, 0.05, 30, 100)"
   ]
  },
  {
   "cell_type": "code",
   "execution_count": 31,
   "metadata": {},
   "outputs": [
    {
     "data": {
      "text/plain": [
       "536.8216230121398"
      ]
     },
     "execution_count": 31,
     "metadata": {},
     "output_type": "execute_result"
    }
   ],
   "source": [
    "test.monthlypmt(100000, 0.05, 30)"
   ]
  },
  {
   "cell_type": "code",
   "execution_count": 32,
   "metadata": {
    "scrolled": true
   },
   "outputs": [
    {
     "data": {
      "text/plain": [
       "85313.34831405093"
      ]
     },
     "execution_count": 32,
     "metadata": {},
     "output_type": "execute_result"
    }
   ],
   "source": [
    "test.notionalBalance(100000, 0.05, 30, 100)"
   ]
  },
  {
   "cell_type": "code",
   "execution_count": 33,
   "metadata": {},
   "outputs": [
    {
     "data": {
      "text/plain": [
       "356.22477152308323"
      ]
     },
     "execution_count": 33,
     "metadata": {},
     "output_type": "execute_result"
    }
   ],
   "source": [
    "test.makeInterestPayment()"
   ]
  },
  {
   "cell_type": "code",
   "execution_count": 34,
   "metadata": {},
   "outputs": [
    {
     "data": {
      "text/plain": [
       "180.59685148905652"
      ]
     },
     "execution_count": 34,
     "metadata": {},
     "output_type": "execute_result"
    }
   ],
   "source": [
    "test.makePrincipalPayment()"
   ]
  },
  {
   "cell_type": "code",
   "execution_count": null,
   "metadata": {
    "collapsed": true
   },
   "outputs": [],
   "source": []
  },
  {
   "cell_type": "code",
   "execution_count": null,
   "metadata": {
    "collapsed": true
   },
   "outputs": [],
   "source": []
  },
  {
   "cell_type": "code",
   "execution_count": 9,
   "metadata": {
    "collapsed": true
   },
   "outputs": [],
   "source": []
  }
 ],
 "metadata": {
  "kernelspec": {
   "display_name": "Python 3",
   "language": "python",
   "name": "python3"
  },
  "language_info": {
   "codemirror_mode": {
    "name": "ipython",
    "version": 3
   },
   "file_extension": ".py",
   "mimetype": "text/x-python",
   "name": "python",
   "nbconvert_exporter": "python",
   "pygments_lexer": "ipython3",
   "version": "3.6.1"
  }
 },
 "nbformat": 4,
 "nbformat_minor": 2
}
